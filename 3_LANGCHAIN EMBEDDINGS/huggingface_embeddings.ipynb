{
 "cells": [
  {
   "cell_type": "markdown",
   "id": "bddebc77",
   "metadata": {},
   "source": [
    "# To remove warnings"
   ]
  },
  {
   "cell_type": "code",
   "execution_count": 2,
   "id": "4535c712",
   "metadata": {},
   "outputs": [],
   "source": [
    "import warnings\n",
    "warnings.filterwarnings(\"ignore\")"
   ]
  },
  {
   "cell_type": "code",
   "execution_count": 3,
   "id": "bc6f71a2",
   "metadata": {},
   "outputs": [
    {
     "data": {
      "text/plain": [
       "True"
      ]
     },
     "execution_count": 3,
     "metadata": {},
     "output_type": "execute_result"
    }
   ],
   "source": [
    "import os \n",
    "from dotenv import load_dotenv\n",
    "load_dotenv()"
   ]
  },
  {
   "cell_type": "code",
   "execution_count": 4,
   "id": "e2b01df3",
   "metadata": {},
   "outputs": [],
   "source": [
    "#Bring in the Hugging Face token from the environment variable\n",
    "os.environ[\"HF_TOKEN\"] =os.getenv(\"HF_TOKEN\")"
   ]
  },
  {
   "cell_type": "markdown",
   "id": "e2b9e770",
   "metadata": {},
   "source": [
    "## Sentence Transformers (LangChain + Hugging Face):\n",
    "In LangChain, Sentence Transformers from Hugging Face are used to convert text into embeddings (vectors) \n",
    "so that you can search, compare, or retrieve documents based on meaning instead of just keywords"
   ]
  },
  {
   "cell_type": "code",
   "execution_count": null,
   "id": "7fbb44dc",
   "metadata": {},
   "outputs": [],
   "source": [
    "from langchain_huggingface import HuggingFaceEmbeddings\n",
    "\n",
    "#you can change the model name to any other model available in Hugging Face Hub\n",
    "embeddings=HuggingFaceEmbeddings(model_name=\"all-MiniLM-L6-v2\")"
   ]
  },
  {
   "cell_type": "code",
   "execution_count": 6,
   "id": "7c26b6d9",
   "metadata": {},
   "outputs": [],
   "source": [
    "text=\"This the text to convert to embeddings\"\n",
    "\n",
    "#Get the embeddings\n",
    "output_embedding=embeddings.embed_query(text)"
   ]
  },
  {
   "cell_type": "code",
   "execution_count": 7,
   "id": "16b8fa61",
   "metadata": {},
   "outputs": [
    {
     "data": {
      "text/plain": [
       "384"
      ]
     },
     "execution_count": 7,
     "metadata": {},
     "output_type": "execute_result"
    }
   ],
   "source": [
    "len(output_embedding)"
   ]
  },
  {
   "cell_type": "code",
   "execution_count": 8,
   "id": "3e29923a",
   "metadata": {},
   "outputs": [],
   "source": [
    "# We can also embedd multiple texts at once\n",
    "\n",
    "embedding_multiple_texts=embeddings.embed_documents([\n",
    "    \"This is the first text to convert to embeddings\",\n",
    "    \"This is the second text to convert to embeddings\",\n",
    "    \"This is the third text to convert to embeddings\"\n",
    "])\n",
    "\n"
   ]
  },
  {
   "cell_type": "code",
   "execution_count": null,
   "id": "94bdeaa6",
   "metadata": {},
   "outputs": [],
   "source": []
  }
 ],
 "metadata": {
  "kernelspec": {
   "display_name": "Python 3",
   "language": "python",
   "name": "python3"
  },
  "language_info": {
   "codemirror_mode": {
    "name": "ipython",
    "version": 3
   },
   "file_extension": ".py",
   "mimetype": "text/x-python",
   "name": "python",
   "nbconvert_exporter": "python",
   "pygments_lexer": "ipython3",
   "version": "3.10.0"
  }
 },
 "nbformat": 4,
 "nbformat_minor": 5
}
