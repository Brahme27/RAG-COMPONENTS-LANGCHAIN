{
 "cells": [
  {
   "cell_type": "markdown",
   "id": "0c59fcc0",
   "metadata": {},
   "source": [
    "## **Faiss** (Facebook AI Similarity Search) \n",
    "is a library for **efficient similarity search and clustering of dense vectors**, mainly used to **quickly find similar items** (like text or images) based on their **vector embeddings**."
   ]
  },
  {
   "cell_type": "code",
   "execution_count": 1,
   "id": "e6fa1bb2",
   "metadata": {},
   "outputs": [],
   "source": [
    "# for Data ingestion\n",
    "from langchain_community.document_loaders import TextLoader\n",
    "# for Data splitting\n",
    "from langchain_text_splitters import RecursiveCharacterTextSplitter\n",
    "# for Creating the embeddings\n",
    "from langchain.embeddings import OllamaEmbeddings\n",
    "# For storing the embeddigs\n",
    "from langchain.vectorstores import FAISS"
   ]
  },
  {
   "cell_type": "markdown",
   "id": "6a0cba32",
   "metadata": {},
   "source": [
    "# Data Ingestion and splitting data into document of chunks"
   ]
  },
  {
   "cell_type": "code",
   "execution_count": 2,
   "id": "414735da",
   "metadata": {},
   "outputs": [
    {
     "data": {
      "text/plain": [
       "[Document(metadata={'source': 'speech.txt'}, page_content='The world must be made safe for democracy. Its peace must be planted upon the tested foundations of political liberty. We have no selfish ends to serve. We desire no conquest, no dominion. We seek no indemnities for ourselves, no material compensation for the sacrifices we shall freely make. We are but one of the champions of the rights of mankind. We shall be satisfied when those rights have been made as secure as the faith and the freedom of nations can make them.'),\n",
       " Document(metadata={'source': 'speech.txt'}, page_content='Just because we fight without rancor and without selfish object, seeking nothing for ourselves but what we shall wish to share with all free peoples, we shall, I feel confident, conduct our operations as belligerents without passion and ourselves observe with proud punctilio the principles of right and of fair play we profess to be fighting for.'),\n",
       " Document(metadata={'source': 'speech.txt'}, page_content='…'),\n",
       " Document(metadata={'source': 'speech.txt'}, page_content='It will be all the easier for us to conduct ourselves as belligerents in a high spirit of right and fairness because we act without animus, not in enmity toward a people or with the desire to bring any injury or disadvantage upon them, but only in armed opposition to an irresponsible government which has thrown aside all considerations of humanity and of right and is running amuck. We are, let me say again, the sincere friends of the German people, and shall desire nothing so much as the early'),\n",
       " Document(metadata={'source': 'speech.txt'}, page_content='and shall desire nothing so much as the early reestablishment of intimate relations of mutual advantage between us—however hard it may be for them, for the time being, to believe that this is spoken from our hearts.'),\n",
       " Document(metadata={'source': 'speech.txt'}, page_content='We have borne with their present government through all these bitter months because of that friendship—exercising a patience and forbearance which would otherwise have been impossible. We shall, happily, still have an opportunity to prove that friendship in our daily attitude and actions toward the millions of men and women of German birth and native sympathy who live among us and share our life, and we shall be proud to prove it toward all who are in fact loyal to their neighbors and to the'),\n",
       " Document(metadata={'source': 'speech.txt'}, page_content='are in fact loyal to their neighbors and to the government in the hour of test. They are, most of them, as true and loyal Americans as if they had never known any other fealty or allegiance. They will be prompt to stand with us in rebuking and restraining the few who may be of a different mind and purpose. If there should be disloyalty, it will be dealt with with a firm hand of stern repression; but, if it lifts its head at all, it will lift it only here and there and without countenance except'),\n",
       " Document(metadata={'source': 'speech.txt'}, page_content='here and there and without countenance except from a lawless and malignant few.'),\n",
       " Document(metadata={'source': 'speech.txt'}, page_content='It is a distressing and oppressive duty, gentlemen of the Congress, which I have performed in thus addressing you. There are, it may be, many months of fiery trial and sacrifice ahead of us. It is a fearful thing to lead this great peaceful people into war, into the most terrible and disastrous of all wars, civilization itself seeming to be in the balance. But the right is more precious than peace, and we shall fight for the things which we have always carried nearest our hearts—for democracy,'),\n",
       " Document(metadata={'source': 'speech.txt'}, page_content='always carried nearest our hearts—for democracy, for the right of those who submit to authority to have a voice in their own governments, for the rights and liberties of small nations, for a universal dominion of right by such a concert of free peoples as shall bring peace and safety to all nations and make the world itself at last free.'),\n",
       " Document(metadata={'source': 'speech.txt'}, page_content='To such a task we can dedicate our lives and our fortunes, everything that we are and everything that we have, with the pride of those who know that the day has come when America is privileged to spend her blood and her might for the principles that gave her birth and happiness and the peace which she has treasured. God helping her, she can do no other.')]"
      ]
     },
     "execution_count": 2,
     "metadata": {},
     "output_type": "execute_result"
    }
   ],
   "source": [
    "loader=TextLoader(\"speech.txt\")\n",
    "docs=loader.load()\n",
    "text_splitter=RecursiveCharacterTextSplitter(chunk_size=500, chunk_overlap=50)\n",
    "\n",
    "final_docs=text_splitter.split_documents(docs)\n",
    "final_docs"
   ]
  },
  {
   "cell_type": "markdown",
   "id": "57294628",
   "metadata": {},
   "source": [
    "# Creating embeddings and storing them in Faiss Db "
   ]
  },
  {
   "cell_type": "code",
   "execution_count": 3,
   "id": "1fc1add2",
   "metadata": {},
   "outputs": [
    {
     "name": "stderr",
     "output_type": "stream",
     "text": [
      "C:\\Users\\zaynb\\AppData\\Local\\Temp\\ipykernel_17080\\2555306606.py:1: LangChainDeprecationWarning: The class `OllamaEmbeddings` was deprecated in LangChain 0.3.1 and will be removed in 1.0.0. An updated version of the class exists in the :class:`~langchain-ollama package and should be used instead. To use it run `pip install -U :class:`~langchain-ollama` and import as `from :class:`~langchain_ollama import OllamaEmbeddings``.\n",
      "  embeddings=OllamaEmbeddings(model=\"deepseek-r1\")\n"
     ]
    },
    {
     "data": {
      "text/plain": [
       "<langchain_community.vectorstores.faiss.FAISS at 0x2cf1f5c4ac0>"
      ]
     },
     "execution_count": 3,
     "metadata": {},
     "output_type": "execute_result"
    }
   ],
   "source": [
    "embeddings=OllamaEmbeddings(model=\"deepseek-r1\")\n",
    "\n",
    "vector_store=FAISS.from_documents(final_docs, embeddings)\n",
    "\n",
    "#vector_store.save_local(\"faiss_index\")\n",
    "\n",
    "vector_store"
   ]
  },
  {
   "cell_type": "markdown",
   "id": "d6bc6b9f",
   "metadata": {},
   "source": [
    "# Querying in Faiss Db using similarity search"
   ]
  },
  {
   "cell_type": "code",
   "execution_count": 4,
   "id": "d030b0f6",
   "metadata": {},
   "outputs": [
    {
     "name": "stdout",
     "output_type": "stream",
     "text": [
      "always carried nearest our hearts—for democracy, for the right of those who submit to authority to have a voice in their own governments, for the rights and liberties of small nations, for a universal dominion of right by such a concert of free peoples as shall bring peace and safety to all nations and make the world itself at last free.\n",
      "and shall desire nothing so much as the early reestablishment of intimate relations of mutual advantage between us—however hard it may be for them, for the time being, to believe that this is spoken from our hearts.\n",
      "…\n"
     ]
    }
   ],
   "source": [
    "## querying the vector store\n",
    "query=\"what is the desired outcome of the war?\"\n",
    "docs=vector_store.similarity_search(query, k=3)\n",
    "for doc in docs:\n",
    "    print(doc.page_content)"
   ]
  },
  {
   "cell_type": "markdown",
   "id": "f7bfecfe",
   "metadata": {},
   "source": [
    "# RETRIVERS"
   ]
  },
  {
   "cell_type": "markdown",
   "id": "9e0f7a2a",
   "metadata": {},
   "source": [
    "**A retriever in LangChain is a tool that finds and returns the most relevant pieces of information (text chunks) from a data source based on a user’s query.**\n",
    "\n",
    "we can also convert vector stores in into a Retriver class.This allows us to easily use it in other langchain methods,which largely work with retrivers"
   ]
  },
  {
   "cell_type": "code",
   "execution_count": 5,
   "id": "057cd903",
   "metadata": {},
   "outputs": [
    {
     "name": "stdout",
     "output_type": "stream",
     "text": [
      "always carried nearest our hearts—for democracy, for the right of those who submit to authority to have a voice in their own governments, for the rights and liberties of small nations, for a universal dominion of right by such a concert of free peoples as shall bring peace and safety to all nations and make the world itself at last free.\n",
      "and shall desire nothing so much as the early reestablishment of intimate relations of mutual advantage between us—however hard it may be for them, for the time being, to believe that this is spoken from our hearts.\n",
      "…\n",
      "Just because we fight without rancor and without selfish object, seeking nothing for ourselves but what we shall wish to share with all free peoples, we shall, I feel confident, conduct our operations as belligerents without passion and ourselves observe with proud punctilio the principles of right and of fair play we profess to be fighting for.\n"
     ]
    }
   ],
   "source": [
    "retriver=vector_store.as_retriever()\n",
    "docs=retriver.invoke(query)\n",
    "for doc in docs:\n",
    "    print(doc.page_content)"
   ]
  },
  {
   "cell_type": "markdown",
   "id": "d7c84973",
   "metadata": {},
   "source": [
    "### What’s the difference?\n",
    "\n",
    "\n",
    "1. **Using vector store directly:**\n",
    "```python\n",
    "vector_store.similarity_search(query, k=3)\n",
    "```\n",
    "👉 This just searches and gives back top 3 similar texts.  \n",
    "You control everything manually.\n",
    "\n",
    "---\n",
    "\n",
    "2. **Using a retriever:**\n",
    "```python\n",
    "retriever = vector_store.as_retriever()\n",
    "retriever.invoke(query)\n",
    "```\n",
    "👉 This is like **wrapping your vector store** in a smarter tool.\n",
    "\n",
    "---\n",
    "\n",
    "### 💡 Why turn vector store into a retriever?\n",
    "\n",
    "Because retrievers:\n",
    "- Are **easier to plug into LangChain pipelines** (like chatbots or Q&A systems).\n",
    "- Can **do more advanced stuff** like filtering, scoring, etc.\n",
    "- Make your code **cleaner and future-ready**.\n",
    "\n",
    "---\n",
    "\n",
    "### ✅ Simple Summary:\n",
    "\n",
    "| Method         | What it does                           |\n",
    "|----------------|----------------------------------------|\n",
    "| `similarity_search()` | Basic search, you do everything yourself |\n",
    "| `as_retriever()`      | Smart wrapper, works better with LangChain tools |"
   ]
  },
  {
   "cell_type": "markdown",
   "id": "9cf8c2f4",
   "metadata": {},
   "source": [
    "# similarity search with score\n",
    "lower score is given higher priority"
   ]
  },
  {
   "cell_type": "code",
   "execution_count": 6,
   "id": "ce1eba8a",
   "metadata": {},
   "outputs": [
    {
     "data": {
      "text/plain": [
       "[(Document(id='7457257d-3eb2-4c25-bd40-2b3ee09c2c1e', metadata={'source': 'speech.txt'}, page_content='always carried nearest our hearts—for democracy, for the right of those who submit to authority to have a voice in their own governments, for the rights and liberties of small nations, for a universal dominion of right by such a concert of free peoples as shall bring peace and safety to all nations and make the world itself at last free.'),\n",
       "  np.float32(15794.816)),\n",
       " (Document(id='c7f3acde-5e9c-4c16-b338-60e9a81fcffa', metadata={'source': 'speech.txt'}, page_content='and shall desire nothing so much as the early reestablishment of intimate relations of mutual advantage between us—however hard it may be for them, for the time being, to believe that this is spoken from our hearts.'),\n",
       "  np.float32(16349.354)),\n",
       " (Document(id='94bbf572-4caf-4ef5-ba14-18ab5b6085f8', metadata={'source': 'speech.txt'}, page_content='…'),\n",
       "  np.float32(18679.725))]"
      ]
     },
     "execution_count": 6,
     "metadata": {},
     "output_type": "execute_result"
    }
   ],
   "source": [
    "vector_store.similarity_search_with_score(query, k=3)"
   ]
  },
  {
   "cell_type": "markdown",
   "id": "42f817a6",
   "metadata": {},
   "source": [
    "# similarity search by vector"
   ]
  },
  {
   "cell_type": "code",
   "execution_count": 7,
   "id": "e1bbf7bb",
   "metadata": {},
   "outputs": [
    {
     "data": {
      "text/plain": [
       "[Document(id='7457257d-3eb2-4c25-bd40-2b3ee09c2c1e', metadata={'source': 'speech.txt'}, page_content='always carried nearest our hearts—for democracy, for the right of those who submit to authority to have a voice in their own governments, for the rights and liberties of small nations, for a universal dominion of right by such a concert of free peoples as shall bring peace and safety to all nations and make the world itself at last free.'),\n",
       " Document(id='c7f3acde-5e9c-4c16-b338-60e9a81fcffa', metadata={'source': 'speech.txt'}, page_content='and shall desire nothing so much as the early reestablishment of intimate relations of mutual advantage between us—however hard it may be for them, for the time being, to believe that this is spoken from our hearts.'),\n",
       " Document(id='94bbf572-4caf-4ef5-ba14-18ab5b6085f8', metadata={'source': 'speech.txt'}, page_content='…')]"
      ]
     },
     "execution_count": 7,
     "metadata": {},
     "output_type": "execute_result"
    }
   ],
   "source": [
    "embedded_vectors=embeddings.embed_query(query)\n",
    "vector_store.similarity_search_by_vector(embedded_vectors, k=3)"
   ]
  },
  {
   "cell_type": "markdown",
   "id": "f9a4c315",
   "metadata": {},
   "source": [
    "# Storing the vector store in a local directory"
   ]
  },
  {
   "cell_type": "code",
   "execution_count": 8,
   "id": "8ed5769e",
   "metadata": {},
   "outputs": [],
   "source": [
    "vector_store.save_local(\"faiss_index\")"
   ]
  },
  {
   "cell_type": "markdown",
   "id": "4442500f",
   "metadata": {},
   "source": [
    "# Loading the vector store and retrieving the data"
   ]
  },
  {
   "cell_type": "code",
   "execution_count": 10,
   "id": "e5cb4b65",
   "metadata": {},
   "outputs": [
    {
     "data": {
      "text/plain": [
       "[Document(id='7457257d-3eb2-4c25-bd40-2b3ee09c2c1e', metadata={'source': 'speech.txt'}, page_content='always carried nearest our hearts—for democracy, for the right of those who submit to authority to have a voice in their own governments, for the rights and liberties of small nations, for a universal dominion of right by such a concert of free peoples as shall bring peace and safety to all nations and make the world itself at last free.'),\n",
       " Document(id='c7f3acde-5e9c-4c16-b338-60e9a81fcffa', metadata={'source': 'speech.txt'}, page_content='and shall desire nothing so much as the early reestablishment of intimate relations of mutual advantage between us—however hard it may be for them, for the time being, to believe that this is spoken from our hearts.'),\n",
       " Document(id='94bbf572-4caf-4ef5-ba14-18ab5b6085f8', metadata={'source': 'speech.txt'}, page_content='…')]"
      ]
     },
     "execution_count": 10,
     "metadata": {},
     "output_type": "execute_result"
    }
   ],
   "source": [
    "new_vector_store=FAISS.load_local(\"faiss_index\", embeddings,allow_dangerous_deserialization=True)\n",
    "new_vector_store.similarity_search(query, k=3)"
   ]
  },
  {
   "cell_type": "markdown",
   "id": "f25459b3",
   "metadata": {},
   "source": [
    "| Feature                         | **Chroma**                                        | **FAISS**                                         |\n",
    "|----------------------------------|---------------------------------------------------|---------------------------------------------------|\n",
    "| **Definition**                   | An open-source embedding database                 | Facebook AI Similarity Search (FAISS)             |\n",
    "| **Type**                         | Vector database with persistent storage option    | In-memory vector search library                   |\n",
    "| **Persistence**                 | ✅ Supports persistent storage                    | ❌ No built-in persistence (unless manually saved) |\n",
    "| **Speed**                        | Fast for local usage                              | Very fast and optimized for large-scale search    |\n",
    "| **Installation**                 | `pip install chromadb`                            | `pip install faiss-cpu` (or `faiss-gpu`)          |\n",
    "| **Ease of Use**                 | Easy, beginner-friendly                           | Requires more setup (especially for persistence)  |\n",
    "| **Best Use Case**               | Quick setup, local dev, and small-medium data     | Large-scale, high-performance similarity search   |\n",
    "| **LangChain Integration**       | Supported as `Chroma` vector store                | Supported as `FAISS` vector store                 |\n",
    "| **Storage Type**                | Uses SQLite or DuckDB for local DB                | Stores data in RAM (can be saved manually)        |\n",
    "\n",
    "### Summary:\n",
    "- **Chroma**: Great for simple local projects with built-in persistence.\n",
    "- **FAISS**: Ideal for high-performance and large-scale vector similarity search but requires more manual handling (especially for saving/loading)"
   ]
  }
 ],
 "metadata": {
  "kernelspec": {
   "display_name": "Python 3",
   "language": "python",
   "name": "python3"
  },
  "language_info": {
   "codemirror_mode": {
    "name": "ipython",
    "version": 3
   },
   "file_extension": ".py",
   "mimetype": "text/x-python",
   "name": "python",
   "nbconvert_exporter": "python",
   "pygments_lexer": "ipython3",
   "version": "3.10.0"
  }
 },
 "nbformat": 4,
 "nbformat_minor": 5
}
