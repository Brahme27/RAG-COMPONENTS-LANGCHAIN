{
 "cells": [
  {
   "cell_type": "markdown",
   "id": "397bf3ef",
   "metadata": {},
   "source": [
    "## What is RecursiveJsonSplitter?\n",
    "RecursiveJsonSplitter is a smart text splitter designed specifically to split large JSON documents into smaller, meaningful chunks.\n",
    "\n",
    "It tries to preserve the structure of the JSON (like keys, arrays, objects) while breaking it into smaller parts that fit within your model's limits.\n",
    "\n"
   ]
  },
  {
   "cell_type": "code",
   "execution_count": 2,
   "id": "3d17b59c",
   "metadata": {},
   "outputs": [],
   "source": [
    "import json \n",
    "\n",
    "import requests \n",
    "\n",
    "json_data=requests.get('https://api.smith.langchain.com/openapi.json').json()\n",
    "\n",
    "#json_data"
   ]
  },
  {
   "cell_type": "code",
   "execution_count": 3,
   "id": "a722f914",
   "metadata": {},
   "outputs": [
    {
     "name": "stdout",
     "output_type": "stream",
     "text": [
      "Number of chunks: 2716\n"
     ]
    }
   ],
   "source": [
    "from langchain_text_splitters import RecursiveJsonSplitter\n",
    "\n",
    "json_splitter=RecursiveJsonSplitter(max_chunk_size=300)\n",
    "\n",
    "json_chunks=json_splitter.split_json(json_data)\n",
    "\n",
    "print(f\"Number of chunks: {len(json_chunks)}\")\n"
   ]
  },
  {
   "cell_type": "code",
   "execution_count": 5,
   "id": "9d38020f",
   "metadata": {},
   "outputs": [
    {
     "data": {
      "text/plain": [
       "dict_items([('openapi', '3.1.0'), ('info', {'title': 'LangSmith', 'version': '0.1.0'}), ('paths', {'/api/v1/sessions/{session_id}': {'get': {'tags': ['tracer-sessions'], 'summary': 'Read Tracer Session', 'description': 'Get a specific session.'}}})])"
      ]
     },
     "execution_count": 5,
     "metadata": {},
     "output_type": "execute_result"
    }
   ],
   "source": [
    "json_chunks[0].items()"
   ]
  },
  {
   "cell_type": "code",
   "execution_count": 6,
   "id": "dca6e9ee",
   "metadata": {},
   "outputs": [
    {
     "data": {
      "text/plain": [
       "dict"
      ]
     },
     "execution_count": 6,
     "metadata": {},
     "output_type": "execute_result"
    }
   ],
   "source": [
    "type(json_chunks[0])"
   ]
  },
  {
   "cell_type": "code",
   "execution_count": 7,
   "id": "5941e7d8",
   "metadata": {},
   "outputs": [
    {
     "data": {
      "text/plain": [
       "dict_keys(['openapi', 'info', 'paths'])"
      ]
     },
     "execution_count": 7,
     "metadata": {},
     "output_type": "execute_result"
    }
   ],
   "source": [
    "json_chunks[0].keys()"
   ]
  },
  {
   "cell_type": "code",
   "execution_count": 8,
   "id": "66d379aa",
   "metadata": {},
   "outputs": [
    {
     "data": {
      "text/plain": [
       "dict_values(['3.1.0', {'title': 'LangSmith', 'version': '0.1.0'}, {'/api/v1/sessions/{session_id}': {'get': {'tags': ['tracer-sessions'], 'summary': 'Read Tracer Session', 'description': 'Get a specific session.'}}}])"
      ]
     },
     "execution_count": 8,
     "metadata": {},
     "output_type": "execute_result"
    }
   ],
   "source": [
    "json_chunks[0].values()"
   ]
  },
  {
   "cell_type": "markdown",
   "id": "198617ec",
   "metadata": {},
   "source": [
    "## converting to documnets"
   ]
  },
  {
   "cell_type": "code",
   "execution_count": 11,
   "id": "3c4b5115",
   "metadata": {},
   "outputs": [
    {
     "data": {
      "text/plain": [
       "'{\"openapi\": \"3.1.0\", \"info\": {\"title\": \"LangSmith\", \"version\": \"0.1.0\"}, \"paths\": {\"/api/v1/sessions/{session_id}\": {\"get\": {\"tags\": [\"tracer-sessions\"], \"summary\": \"Read Tracer Session\", \"description\": \"Get a specific session.\"}}}}'"
      ]
     },
     "execution_count": 11,
     "metadata": {},
     "output_type": "execute_result"
    }
   ],
   "source": [
    "docs=json_splitter.create_documents([json_data])\n",
    "\n",
    "docs[0].page_content"
   ]
  },
  {
   "cell_type": "code",
   "execution_count": 13,
   "id": "26096a4f",
   "metadata": {},
   "outputs": [
    {
     "data": {
      "text/plain": [
       "langchain_core.documents.base.Document"
      ]
     },
     "execution_count": 13,
     "metadata": {},
     "output_type": "execute_result"
    }
   ],
   "source": [
    "type(docs[0])"
   ]
  },
  {
   "cell_type": "code",
   "execution_count": 14,
   "id": "bf28a19c",
   "metadata": {},
   "outputs": [
    {
     "data": {
      "text/plain": [
       "2716"
      ]
     },
     "execution_count": 14,
     "metadata": {},
     "output_type": "execute_result"
    }
   ],
   "source": [
    "len(docs)"
   ]
  },
  {
   "cell_type": "code",
   "execution_count": 17,
   "id": "bae80027",
   "metadata": {},
   "outputs": [
    {
     "name": "stdout",
     "output_type": "stream",
     "text": [
      "page_content='{\"definitions\": {\"examples.ExamplesUpdatedResponse\": {\"type\": \"object\", \"properties\": {\"count\": {\"type\": \"integer\", \"example\": 1}, \"example_ids\": {\"type\": \"array\", \"items\": {\"type\": \"string\"}, \"example\": [\"[\\\"123e4567-e89b-12d3-a456-426614174000\\\"]\"]}}}}}'\n"
     ]
    }
   ],
   "source": [
    "for doc in docs[2715:]:\n",
    "    print(doc)"
   ]
  },
  {
   "cell_type": "markdown",
   "id": "2050dc11",
   "metadata": {},
   "source": [
    "## Converting to a string"
   ]
  },
  {
   "cell_type": "code",
   "execution_count": 18,
   "id": "b3765d86",
   "metadata": {},
   "outputs": [
    {
     "name": "stdout",
     "output_type": "stream",
     "text": [
      "Number of text chunks: 2716\n"
     ]
    }
   ],
   "source": [
    "text=json_splitter.split_text(json_data)\n",
    "\n",
    "print(f\"Number of text chunks: {len(text)}\")"
   ]
  },
  {
   "cell_type": "code",
   "execution_count": 19,
   "id": "bd0ba7d6",
   "metadata": {},
   "outputs": [
    {
     "data": {
      "text/plain": [
       "list"
      ]
     },
     "execution_count": 19,
     "metadata": {},
     "output_type": "execute_result"
    }
   ],
   "source": [
    "type(text)"
   ]
  },
  {
   "cell_type": "code",
   "execution_count": 20,
   "id": "bb47146d",
   "metadata": {},
   "outputs": [
    {
     "data": {
      "text/plain": [
       "str"
      ]
     },
     "execution_count": 20,
     "metadata": {},
     "output_type": "execute_result"
    }
   ],
   "source": [
    "type(text[0])"
   ]
  },
  {
   "cell_type": "code",
   "execution_count": null,
   "id": "67fa1e1c",
   "metadata": {},
   "outputs": [],
   "source": []
  }
 ],
 "metadata": {
  "kernelspec": {
   "display_name": "Python 3",
   "language": "python",
   "name": "python3"
  },
  "language_info": {
   "codemirror_mode": {
    "name": "ipython",
    "version": 3
   },
   "file_extension": ".py",
   "mimetype": "text/x-python",
   "name": "python",
   "nbconvert_exporter": "python",
   "pygments_lexer": "ipython3",
   "version": "3.10.0"
  }
 },
 "nbformat": 4,
 "nbformat_minor": 5
}
